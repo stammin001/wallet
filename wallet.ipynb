{
 "cells": [
  {
   "cell_type": "code",
   "execution_count": 60,
   "id": "60b8f927-0fa6-46e8-a41a-b02f4dd3bba8",
   "metadata": {},
   "outputs": [],
   "source": [
    "# Import dependencies\n",
    "import os\n",
    "import subprocess\n",
    "import json\n",
    "\n",
    "from web3 import Web3\n",
    "from web3.middleware import geth_poa_middleware\n",
    "from eth_account import Account\n",
    "\n",
    "from bit import PrivateKeyTestnet\n",
    "from bit.network import NetworkAPI\n",
    "\n",
    "from dotenv import load_dotenv\n",
    "from constants import *\n"
   ]
  },
  {
   "cell_type": "code",
   "execution_count": 22,
   "id": "99008a80-b1f1-4c92-bd8f-87190e66d6b1",
   "metadata": {},
   "outputs": [],
   "source": [
    "# Load and set environment variables\n",
    "load_dotenv()\n",
    "mnemonic = os.getenv(\"FINTECH-WALLET\")\n"
   ]
  },
  {
   "cell_type": "code",
   "execution_count": 3,
   "id": "efe0eabd-482d-481f-abd7-1b4b94a5883f",
   "metadata": {},
   "outputs": [],
   "source": [
    "# Create a function that derives keys for different coins in wallet\n",
    "def derive_wallets(mnemonic, coin, keys_number):\n",
    "    \n",
    "    command = 'php derive -g --mnemonic=\"' + str(mnemonic) + '\"' + ' --cols=path,address,privkey,pubkey --numderive=' + str(keys_number) + ' --coin=' + str(coin) + ' --format=json'\n",
    "\n",
    "    p = subprocess.Popen(command, stdout=subprocess.PIPE, stderr=subprocess.PIPE, shell=True)\n",
    "    output, err = p.communicate()\n",
    "    p_status = p.wait()\n",
    "    \n",
    "    return json.loads(output)\n"
   ]
  },
  {
   "cell_type": "code",
   "execution_count": 4,
   "id": "7e09ed39-4edb-45e9-ac18-8b7f5d6326a4",
   "metadata": {},
   "outputs": [],
   "source": [
    "# Create a function that converts privkey strings to account objects.\n",
    "def priv_key_to_account(private_key, coin):\n",
    "    \n",
    "    if coin == ETH:\n",
    "        return Account.privateKeyToAccount(private_key)\n",
    "    \n",
    "    if coin == BTCTEST:\n",
    "        return PrivateKeyTestnet(private_key)\n"
   ]
  },
  {
   "cell_type": "code",
   "execution_count": 5,
   "id": "d8f78e36-537d-45de-95d7-8ca3dee89dcb",
   "metadata": {},
   "outputs": [],
   "source": [
    "# Create a function that creates an unsigned transaction appropriate metadata.\n",
    "def create_tx(sender, recipient, amount, coin):\n",
    "    \n",
    "    if coin == ETH:\n",
    "        gasEstimate = w3.eth.estimateGas({\"from\": sender.address, \"to\": recipient, \"value\": amount})\n",
    "        \n",
    "        return {\n",
    "            \"to\": recipient,\n",
    "            \"from\": sender.address,\n",
    "            \"value\": amount,\n",
    "            \"gasPrice\": w3.eth.gasPrice,\n",
    "            \"gas\": gasEstimate,\n",
    "            \"nonce\": w3.eth.getTransactionCount(sender.address)\n",
    "        }\n",
    "        \n",
    "    if coin == BTCTEST:\n",
    "        return PrivateKeyTestnet.prepare_transaction(sender.address, [(recipient, amount, BTC)])  \n"
   ]
  },
  {
   "cell_type": "code",
   "execution_count": 15,
   "id": "6267cccc-507c-4329-be12-e0c0825bcbb7",
   "metadata": {},
   "outputs": [],
   "source": [
    "# Create a function that creates, signs and sends the transaction.\n",
    "def send_tx(sender, recipient, amount, coin):\n",
    "    \n",
    "    if coin == ETH:\n",
    "        transaction = create_tx(sender, recipient, amount, coin)\n",
    "        sign_transaction = sender.sign_transaction(transaction)\n",
    "        result = w3.eth.sendRawTransaction(sign_transaction.rawTransaction)\n",
    "        return result.hex()\n",
    "    \n",
    "    if coin == BTCTEST:\n",
    "        transaction = create_tx(sender, recipient, amount, coin)\n",
    "        sign_transaction = sender.sign_transaction(transaction)\n",
    "        result = NetworkAPI.broadcast_tx_testnet(sign_transaction)       \n",
    "        return result\n",
    "    "
   ]
  },
  {
   "cell_type": "code",
   "execution_count": 63,
   "id": "33dcd428-6e27-4223-8eb1-1615ceeeb2f1",
   "metadata": {},
   "outputs": [
    {
     "name": "stdout",
     "output_type": "stream",
     "text": [
      "coin = btc-test\n",
      "address = mkwqRYLAfeoMJnnb5A9WegujdggyBeEPGD, private_key = cUMT7ptJgxrwSm9s5zSUCKUhSNVq1UC9v31vgoSusyukAciNMdDt, public_key = 02dcb7a11c7172966e58679c0cb207bfb95d119cc55f9fb318d0a522aaff5b9577 \n",
      "\n",
      "address = mmUQuAvBYqVpKzayhaYvnJe9VuwkRdSWPu, private_key = cVj1Q51vqgtBEYokpcb6RtjMwVbAsaCmrQRyjMTHFm5rGoziYe44, public_key = 024fca815b769b3e6920eb31081de336536e0a0dcba4955b6d7773b8acc205e0b4 \n",
      "\n",
      "address = mxYAxY575hg56rGtU3n6754GfqCKRxzvep, private_key = cMzhL3wx92ETkcCDyTt8ouz8pXQnp7RBpE3pHu1637Sn16qVW9vo, public_key = 03bdfba2cebb0d9fa135451ec068d05e6ddf07d8c79c13afa46b4658b3942cf087 \n",
      "\n",
      "address = myvSN79mNsWRWYdzYMoVRWB1DXe2mpRQF5, private_key = cTNNJqi4z4shu5ejE9FsuwryY5yDXd1VMkHMX89RXZZbL6rCcNLb, public_key = 02f72e3279332ef86e8ea875c41dde9ad19587b99206e2de0f18104b8c23b88cd1 \n",
      "\n",
      "address = mqVftPkzdSgVay5j2DShnGYinqRYDWtk7a, private_key = cTeHrRKgQccf5KLPdSFYSZi1FMdDaE8txBYVvee1smLC2Ag9V6FS, public_key = 02080d2671dc5d4305a3392c13f0435209d2437f71f7ede0eb8be9320d85ea6bce \n",
      "\n",
      "address = n2cZHncL5nUYCymvZDzqr4hwEGyabqjTGC, private_key = cSagtb3twwEuqKn79BcywNjpGtCbMjgA6kUDz9Areq4HRZVETSDj, public_key = 03267927b90aa01ca8860bf9b3719832cae0f305fa39919bff52848f0077f23cbe \n",
      "\n",
      "address = mqsupjFa4CrZHZCemRE9vAMaMKdZHDLtnk, private_key = cSqZnyAUgsddXNCY7QZ2FHrKbkFPgX6pvZJ9zdkhceT3tEYx9xCF, public_key = 033a38979f991ec403ded888d12a7b35cbfe9e600234376941c32e581b91e4044b \n",
      "\n",
      "address = mjR46GuHJLcgNkcERSCpZaw4JTvV3DD7HG, private_key = cREH2qYH9S3XTYp9q3ZCPvaMByaheryW1EBikYpESRNPhqZC95iA, public_key = 0367fcc4079db6baaeed842bbe4ba5eee99c90826f9e703babb1fbe3dbf0ac0569 \n",
      "\n",
      "address = mnKxr7cUtRTNjBXBLnL6NWECvLynQTWGix, private_key = cV2ZzSLEZrAC6GEdHXxqJBqzxzwevMshUXCuhD69bJxM6oCuex35, public_key = 031d285b664e0457bcbaa594f2bc72d5b778df17cd05f386d02b5e4979b2089ab1 \n",
      "\n",
      "address = n1RLAH5BrNrAY5qapXAsdDzBbv4YLNBoDW, private_key = cNNRBTeAW9gdhyL3tJN9ntAqi3mzzprxnPhgM8Xdm7qbiFW6hZQL, public_key = 03871a4b3b49eafe6b16dc8b202ab272bebf146e222e6d9e80360266af5207f1a4 \n",
      "\n",
      "coin = eth\n",
      "address = 0x02194a55DDA1B029F70220D53f099F38c629ab36, private_key = 0xd36d0f9ff2f6dc80208cd19e0b7d939f11bd1a63d10c38cdc1c58f4dbbc95edc, public_key = 03b21e2e1bc0b74c298d113c5c305c80cc76e67c4ff29e9b31028ea17328f8bba8 \n",
      "\n",
      "address = 0x3dFb64A5AdAe2aDece2E252FE5E889d61Ef75122, private_key = 0x81b180541f1ae73a48976095a58a342611fcedac9c00758510c0f3c0c63e5710, public_key = 03b64da52e7b23d110002752118ecc97052e6637d916794bef1eaac7bba0a54d3b \n",
      "\n",
      "address = 0xdeA9cE1d814f6dAaEe900D864B7f1974Ab2f0A44, private_key = 0x815b3bc011096f513a633ed35581e057423680405381db490576d48b95e1ab15, public_key = 03e58f0070091a989dbede3de95458ddd960381f1846f4414dcc896edc04907735 \n",
      "\n",
      "address = 0x887e169499831bd8d79b6e73634e087F0F34b4DA, private_key = 0xd13b938e2e2b19d9b04c3cf298d66ebb5ff782c8a061482e63c436614baaebfb, public_key = 03c34d4d29b4720ea14be16d468f80d1d523c881e890442db42603462ebebcf0d2 \n",
      "\n",
      "address = 0x92bfF4346bE529d13D7552841bE8274AA6de0334, private_key = 0x8cccd99353f7265b2c56a8f291ad48888780c646174ba70443b3e5383e31d3e0, public_key = 0287685fc98950da23dc197c9243148add3893ea02252ef9d231648ff2c36451ca \n",
      "\n",
      "address = 0x00ED5Ab2aBEF77cafC56B59eDBD76d841970621A, private_key = 0x1b872d956b17f1223a0c87e5e33172fbfb8bc90ddcfb63d9f945730961ca913b, public_key = 0312c753cef853567cdf8a83ce9259e754b9e99101fddfb1c89d36c909ac7ae5f5 \n",
      "\n",
      "address = 0x87859A12b24FF2F594453EE25a7dF9C177e3Ed1C, private_key = 0xab2df0604c61581d1be56df9a24c0cf79f4787121050bc620b22677aee9108e3, public_key = 02d347eb6cda7f10a7e6ee9ead788bd801f256e6b0e89ef3baaefdd959e7f29dc3 \n",
      "\n",
      "address = 0x9E8325Db54ADAF477A1A540Cd16Db5e17d2df344, private_key = 0x058737e82532468af851c9df89ed8a1ed706da199160b10b52de33f4ea689bbe, public_key = 029d18fb9049f11d618ac7fcbe2872c98751ba9c3d39702b1a0698071c1ef61cd1 \n",
      "\n",
      "address = 0x50227980D7927f79Fd6B86B552e283cd3d9aF5d8, private_key = 0x89028d196546cf3cb70ff41d111cc476aa9d781b51bf767acbe54798cdee7dce, public_key = 029e109bc9a21c9e3a7d5b0be39bb9b5e57896eb4162f93aba23059bfffd1c8d23 \n",
      "\n",
      "address = 0x013b6bB159611f6CD3c54CFB28c1569084133C55, private_key = 0x63e2b9580e92afc98ab6438e808633825744b585839634745b51c75471a29e12, public_key = 0397bd4f9c83811fe7bb91e27273c8f5941ef5e9ccf8812939c6263e0668182b01 \n",
      "\n",
      "coin = ltc\n",
      "address = LiTFsABpkbqhje2pD2wSu7QLPPPSD83nPS, private_key = T6QQ2UHySw4LCDb4Y3XWqfR8QyYQYGc3fPvXyjBF7kosTd4ZVP4c, public_key = 02fb76a2a58647324967ca80785d9f5aa87a4c5cd1e9e7ab9f7ce1dbac0e1cec9f \n",
      "\n",
      "address = LfyZ3x8CgtvRjgKqWpy1zzsLZcjfZVwmpp, private_key = T4uKLQP3HzCe5XZA115J1MRDNDhUtouvxYamct3g28xRjvS5PPsN, public_key = 0313ccaa6f7a6248f2f4ac9def6315dd06946db349e1dc6b33ebdeefab7b9ae7bb \n",
      "\n",
      "address = LURQZ3NSTZERsC2L5wzkdGfamLcRJGMwdG, private_key = T6TTYsQFCTSntiPFbe1hr1UmwYNNVUZnnUVPh4V6KCYGkfVUyKV8, public_key = 03658d9255a04e41cb1dbe789d51de1b3031f754036a7827837e56eefd368ec1ed \n",
      "\n",
      "address = LLEX6fiMgh16PfLFq9gK61bgbeErVC5yWZ, private_key = T8Xg8HYFzfYKqTvAjt8M2kZY7XhDxf8uTW5CZATDGgd628EEz2Ur, public_key = 0335fefa70aa0d292d72f91b068228da14d342f5c100a167652bef6506a9945208 \n",
      "\n",
      "address = LSy1DiYmiq1JgtZuFZg2nj6X2bWz5VTinR, private_key = T3QwMbpAtcV1uT6ro2eTmkZYj7LSckbQs7x3X6pThuHf2DYsNQum, public_key = 033848290ec79c0cc7d64042a41a11c5fb3dea8badd778ecba5a349e74a4c2129d \n",
      "\n",
      "address = LNLmMTQTWbwx4Edkj2mTakiWqD1w2bMwFL, private_key = T5dDCgPDXUTLXGncvQAtiAhxASvCM91ADW1w3e9xpxmX6sRrg7Fd, public_key = 031cf288efc9df3df7dd573978f03760094c5398a8cb6029a2ea4310d340b8cb8c \n",
      "\n",
      "address = LZZAmyWCiQyFeFcbm1NvUcngV6NB1K5cCC, private_key = T9mznh4FKddoTdL2rJNX73yGc4maHpLZW3K4qFx9x7TSNXpu8EmA, public_key = 037b46bb0730d5e681a975014ac928cb060cee91575976a74760ea547c9856f731 \n",
      "\n",
      "address = LYBdJapCNNJzsqcDMJPo79kDvo17kAYZG6, private_key = T4fBaEUQLzmf8ddPP5g5j5oi6LSLLKsLAJ29QnfezV4t3aT8ek5F, public_key = 0393c39e00785865f610b6904918b4bace13bf7c8aab837c23a2334d5d5fa90eca \n",
      "\n",
      "address = LKdZmKZ2wgFnwzaBZTaR21nXaxCUQEHUfK, private_key = T74T4rjYQwqWpp3J7HK76qof6n7zknS7rTQS7uBCPqb157DAENbe, public_key = 02e8d257ce4c5dca6238377798a7c823d1bcef5d84114124f2996258425395baed \n",
      "\n",
      "address = LNCZjyUv31w2bNq88QVkZHvxBBz941545C, private_key = T4nh3WVeawUg312G1oXPfz9T4XV84LEefaoMCr7YvbY4jYUtKxE7, public_key = 0377c7e1db5bd20d29c35b57fd29c0fb1aeac526cf5d456674814dd5a32ab6e91c \n",
      "\n"
     ]
    }
   ],
   "source": [
    "coins = {BTCTEST: derive_wallets(mnemonic, BTCTEST, 10), ETH: derive_wallets(mnemonic, ETH, 10), LTC: derive_wallets(mnemonic, LTC, 10)}\n",
    "for coin in coins:\n",
    "    print(f'coin = {coin}')\n",
    "    \n",
    "    for addrs_keys in coins[coin]:\n",
    "        print(f'address = {addrs_keys[\"address\"]}, private_key = {addrs_keys[\"privkey\"]}, public_key = {addrs_keys[\"pubkey\"]} \\n')\n"
   ]
  },
  {
   "cell_type": "code",
   "execution_count": 24,
   "id": "d1230b2d-0d86-4519-9537-083a22060d86",
   "metadata": {},
   "outputs": [],
   "source": [
    "#Inject geth middleware to Web3\n",
    "w3 = Web3(Web3.HTTPProvider(\"http://127.0.0.1:8545\"))\n",
    "w3.middleware_onion.inject(geth_poa_middleware, layer=0)\n"
   ]
  },
  {
   "cell_type": "code",
   "execution_count": 39,
   "id": "8613afd0-2238-4d09-a42a-28d8ebd1cea9",
   "metadata": {},
   "outputs": [
    {
     "data": {
      "text/plain": [
       "'0xdcb17915cbc0d821dc9c209b772497849781fbf1d23a688735d0de1cf996d8db'"
      ]
     },
     "execution_count": 39,
     "metadata": {},
     "output_type": "execute_result"
    }
   ],
   "source": [
    "#Sending Ether\n",
    "sender = priv_key_to_account(\"0xd36d0f9ff2f6dc80208cd19e0b7d939f11bd1a63d10c38cdc1c58f4dbbc95edc\", ETH)\n",
    "\n",
    "recipient = \"0x3dFb64A5AdAe2aDece2E252FE5E889d61Ef75122\"\n",
    "\n",
    "amount = 50 * ((10) ** 18)\n",
    "send_tx(sender, recipient, amount, ETH)\n"
   ]
  },
  {
   "cell_type": "code",
   "execution_count": 42,
   "id": "e9eb6e36-6055-4702-8f91-9d08b8421bc6",
   "metadata": {},
   "outputs": [],
   "source": [
    "#Sending BTCTest\n",
    "sender = priv_key_to_account(\"cUMT7ptJgxrwSm9s5zSUCKUhSNVq1UC9v31vgoSusyukAciNMdDt\", BTCTEST)\n",
    "\n",
    "recipient = \"mmUQuAvBYqVpKzayhaYvnJe9VuwkRdSWPu\"\n",
    "\n",
    "amount = 0.00005\n",
    "send_tx(sender, recipient, amount, BTCTEST)\n"
   ]
  },
  {
   "cell_type": "code",
   "execution_count": 56,
   "id": "77968d64-048f-4bab-a613-0a467b6ca611",
   "metadata": {},
   "outputs": [],
   "source": [
    "# Function that tracks transaction.\n",
    "def track_tx(transaction, coin):\n",
    "    \n",
    "    if coin == ETH:\n",
    "        return w3.eth.get_transaction(transaction)\n",
    "    \n",
    "    if coin == BTCTEST:\n",
    "        return NetworkAPI.get_transaction_by_id_testnet(transaction)\n",
    "    "
   ]
  },
  {
   "cell_type": "code",
   "execution_count": 57,
   "id": "3737a3a8-402a-4e06-9e22-fcc84260a9f2",
   "metadata": {},
   "outputs": [
    {
     "name": "stdout",
     "output_type": "stream",
     "text": [
      "020000000001018a7b063af70284e70398e8b93684cef74775e21c5d8f68418268aba711a654120100000017160014735005353efe67b6dada8da11734e935de072001feffffff0292ab02f30000000017a9142c3d8244eb98a944b83126e919ec0f4ce1a3383d87f9f91d00000000001976a9144e3583bd7d79f13c51f5d8d31202a390205916b588ac024730440220784d735b4465a1cbdc10527dc98b195cf7e00414cdd26aa8f8647f8925d96615022042ac090ac0a0f4504b2b67d70aba7b52093423e2474fdc704174285abfd5528d012102369dc661224a8ea1198acee42c7031d7b6a95e01feb8ab4cde621b963a24be744e8d2000\n"
     ]
    }
   ],
   "source": [
    "print(track_tx('2f7c0e3109e02504cac89f3c95259b5681b38b9ab206b5a37497e72307fe4d2f', 'btc-test'))\n",
    "         "
   ]
  },
  {
   "cell_type": "code",
   "execution_count": null,
   "id": "c72c6909-bf92-4faa-9828-e9901f29012c",
   "metadata": {},
   "outputs": [],
   "source": []
  }
 ],
 "metadata": {
  "kernelspec": {
   "display_name": "Python 3 (ipykernel)",
   "language": "python",
   "name": "python3"
  },
  "language_info": {
   "codemirror_mode": {
    "name": "ipython",
    "version": 3
   },
   "file_extension": ".py",
   "mimetype": "text/x-python",
   "name": "python",
   "nbconvert_exporter": "python",
   "pygments_lexer": "ipython3",
   "version": "3.8.8"
  }
 },
 "nbformat": 4,
 "nbformat_minor": 5
}
